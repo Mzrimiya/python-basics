{
 "cells": [
  {
   "cell_type": "code",
   "execution_count": 4,
   "id": "1bf31f12",
   "metadata": {},
   "outputs": [],
   "source": [
    "dic={'A':'123','B':'345','C':'764','D':'246'}"
   ]
  },
  {
   "cell_type": "code",
   "execution_count": null,
   "id": "93982e39",
   "metadata": {},
   "outputs": [],
   "source": [
    "print(dic)"
   ]
  },
  {
   "cell_type": "code",
   "execution_count": null,
   "id": "5c9b6c2a",
   "metadata": {},
   "outputs": [],
   "source": [
    "dic={'name':'ziya','age':7,'class':'first'};"
   ]
  },
  {
   "cell_type": "code",
   "execution_count": 3,
   "id": "c5ad35f9",
   "metadata": {},
   "outputs": [
    {
     "name": "stdout",
     "output_type": "stream",
     "text": [
      "name: ziya\n",
      "age: 7\n"
     ]
    }
   ],
   "source": [
    "print(\"name:\",dic['name'])\n",
    "print(\"age:\",dic['age'])"
   ]
  },
  {
   "cell_type": "code",
   "execution_count": 4,
   "id": "12ab18c9",
   "metadata": {},
   "outputs": [],
   "source": [
    "dic['age']=8;"
   ]
  },
  {
   "cell_type": "code",
   "execution_count": 5,
   "id": "8a7c1695",
   "metadata": {},
   "outputs": [
    {
     "name": "stdout",
     "output_type": "stream",
     "text": [
      "8\n"
     ]
    }
   ],
   "source": [
    "print(dic['age']);"
   ]
  },
  {
   "cell_type": "code",
   "execution_count": 6,
   "id": "98519b9c",
   "metadata": {},
   "outputs": [
    {
     "name": "stdout",
     "output_type": "stream",
     "text": [
      "{'name': 'ziya', 'age': 8, 'class': 'first'}\n"
     ]
    }
   ],
   "source": [
    "print(dic)"
   ]
  },
  {
   "cell_type": "code",
   "execution_count": 7,
   "id": "4043407c",
   "metadata": {},
   "outputs": [],
   "source": [
    "dic['school']='bem'"
   ]
  },
  {
   "cell_type": "code",
   "execution_count": 8,
   "id": "c72b2b66",
   "metadata": {},
   "outputs": [
    {
     "name": "stdout",
     "output_type": "stream",
     "text": [
      "bem\n"
     ]
    }
   ],
   "source": [
    "print(dic['school'])"
   ]
  },
  {
   "cell_type": "code",
   "execution_count": 9,
   "id": "1388f263",
   "metadata": {},
   "outputs": [],
   "source": [
    "dic={'name':'ziya','age':7,'class':'first','name':'niya'};"
   ]
  },
  {
   "cell_type": "code",
   "execution_count": 10,
   "id": "1f274fd3",
   "metadata": {},
   "outputs": [
    {
     "data": {
      "text/plain": [
       "{'name': 'niya', 'age': 7, 'class': 'first'}"
      ]
     },
     "execution_count": 10,
     "metadata": {},
     "output_type": "execute_result"
    }
   ],
   "source": [
    "dic"
   ]
  },
  {
   "cell_type": "code",
   "execution_count": null,
   "id": "122578b8",
   "metadata": {},
   "outputs": [],
   "source": []
  }
 ],
 "metadata": {
  "kernelspec": {
   "display_name": "Python 3 (ipykernel)",
   "language": "python",
   "name": "python3"
  },
  "language_info": {
   "codemirror_mode": {
    "name": "ipython",
    "version": 3
   },
   "file_extension": ".py",
   "mimetype": "text/x-python",
   "name": "python",
   "nbconvert_exporter": "python",
   "pygments_lexer": "ipython3",
   "version": "3.9.7"
  }
 },
 "nbformat": 4,
 "nbformat_minor": 5
}
