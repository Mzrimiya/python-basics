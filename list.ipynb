{
 "cells": [
  {
   "cell_type": "code",
   "execution_count": 1,
   "id": "6cd0d565",
   "metadata": {},
   "outputs": [
    {
     "data": {
      "text/plain": [
       "['m', 'i', 'y', 'a', 'i', 'a']"
      ]
     },
     "execution_count": 1,
     "metadata": {},
     "output_type": "execute_result"
    }
   ],
   "source": [
    "l2=['m','i','y','a','i','a']\n",
    "l2"
   ]
  },
  {
   "cell_type": "code",
   "execution_count": 2,
   "id": "539d4aa0",
   "metadata": {},
   "outputs": [
    {
     "data": {
      "text/plain": [
       "2"
      ]
     },
     "execution_count": 2,
     "metadata": {},
     "output_type": "execute_result"
    }
   ],
   "source": [
    "l2.count(\"i\")"
   ]
  },
  {
   "cell_type": "code",
   "execution_count": 6,
   "id": "ae7a350f",
   "metadata": {},
   "outputs": [
    {
     "data": {
      "text/plain": [
       "['n', 'i', 'y', 'a', 'm', 'i', 'y', 'a']"
      ]
     },
     "execution_count": 6,
     "metadata": {},
     "output_type": "execute_result"
    }
   ],
   "source": [
    "l1=['n','i','y','a']\n",
    "l2=['m','i','y','a']\n",
    "l1.extend(l2)\n",
    "l1"
   ]
  },
  {
   "cell_type": "code",
   "execution_count": 10,
   "id": "1923a217",
   "metadata": {},
   "outputs": [
    {
     "data": {
      "text/plain": [
       "2"
      ]
     },
     "execution_count": 10,
     "metadata": {},
     "output_type": "execute_result"
    }
   ],
   "source": [
    "l2.index('y')\n"
   ]
  },
  {
   "cell_type": "code",
   "execution_count": 11,
   "id": "d0e3c12a",
   "metadata": {},
   "outputs": [
    {
     "name": "stdout",
     "output_type": "stream",
     "text": [
      "10\n"
     ]
    }
   ],
   "source": [
    "a=10\n",
    "print(a)"
   ]
  },
  {
   "cell_type": "code",
   "execution_count": 12,
   "id": "50ddb13a",
   "metadata": {},
   "outputs": [
    {
     "name": "stdout",
     "output_type": "stream",
     "text": [
      "a\n"
     ]
    }
   ],
   "source": [
    "print('a')"
   ]
  },
  {
   "cell_type": "code",
   "execution_count": 13,
   "id": "27d60452",
   "metadata": {},
   "outputs": [],
   "source": [
    "l1.insert(0,'l')"
   ]
  },
  {
   "cell_type": "code",
   "execution_count": 14,
   "id": "06dae8b7",
   "metadata": {},
   "outputs": [
    {
     "data": {
      "text/plain": [
       "['l', 'n', 'i', 'y', 'a', 'm', 'i', 'y', 'a']"
      ]
     },
     "execution_count": 14,
     "metadata": {},
     "output_type": "execute_result"
    }
   ],
   "source": [
    "l1"
   ]
  },
  {
   "cell_type": "code",
   "execution_count": 8,
   "id": "2940bd7e",
   "metadata": {},
   "outputs": [
    {
     "name": "stdout",
     "output_type": "stream",
     "text": [
      "10\n",
      "33\n",
      "33\n",
      "44\n",
      "20\n",
      "67\n",
      "37\n",
      "33\n",
      "3\n",
      "3\n",
      "1\n",
      "6\n",
      "[10, 33, 33, 44, 20, 67, 37, 33, 29]\n",
      "[10, 33, 33, 44, 20, 67, 37, 33, 29, 50]\n",
      "[10, 33, 33, 44, 20, 37, 33, 29, 50]\n",
      "[10, 33, 33, 44, 20, 37, 33, 29, 50, 1, 2]\n"
     ]
    },
    {
     "data": {
      "text/plain": [
       "33"
      ]
     },
     "execution_count": 8,
     "metadata": {},
     "output_type": "execute_result"
    }
   ],
   "source": [
    "list1=[10,33,33,44,20,67,37,33]\n",
    "print(list1[0])\n",
    "print(list1[1])\n",
    "print(list1[2])\n",
    "print(list1[3])\n",
    "print(list1[4])\n",
    "print(list1[5])\n",
    "print(list1[6])\n",
    "print(list1[7])\n",
    "print(list1.count(33))\n",
    "print(list1.index(44))\n",
    "print(list1.count(37))\n",
    "print(list1.index(37))\n",
    "list1.insert(8,29)\n",
    "print(list1)\n",
    "list1.append(50)\n",
    "print(list1)\n",
    "list1.remove(67)\n",
    "print(list1)\n",
    "list2=[1,2]\n",
    "list1.extend(list2)\n",
    "print(list1)\n",
    "list1.pop()\n",
    "list1.pop(2)\n"
   ]
  },
  {
   "cell_type": "code",
   "execution_count": null,
   "id": "73fd67e9",
   "metadata": {},
   "outputs": [],
   "source": []
  }
 ],
 "metadata": {
  "kernelspec": {
   "display_name": "Python 3 (ipykernel)",
   "language": "python",
   "name": "python3"
  },
  "language_info": {
   "codemirror_mode": {
    "name": "ipython",
    "version": 3
   },
   "file_extension": ".py",
   "mimetype": "text/x-python",
   "name": "python",
   "nbconvert_exporter": "python",
   "pygments_lexer": "ipython3",
   "version": "3.9.7"
  }
 },
 "nbformat": 4,
 "nbformat_minor": 5
}
