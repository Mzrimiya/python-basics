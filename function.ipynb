{
 "cells": [
  {
   "cell_type": "code",
   "execution_count": 4,
   "id": "7e405aa7",
   "metadata": {},
   "outputs": [
    {
     "name": "stdout",
     "output_type": "stream",
     "text": [
      "hello miya good morning\n"
     ]
    }
   ],
   "source": [
    "def greet(name):\n",
    "    \"\"\"to greet a person\"\"\"\n",
    "    print(\"hello \"+name+\" good morning\")\n",
    "greet('miya')"
   ]
  },
  {
   "cell_type": "code",
   "execution_count": 5,
   "id": "05a538b8",
   "metadata": {},
   "outputs": [
    {
     "name": "stdout",
     "output_type": "stream",
     "text": [
      "sum is 7\n"
     ]
    }
   ],
   "source": [
    "def sum(a,b):\n",
    "    \"\"\"to find sum of two numbers\"\"\"\n",
    "    c=a+b\n",
    "    print(\"sum is\",+c)\n",
    "sum(2,5)"
   ]
  },
  {
   "cell_type": "code",
   "execution_count": 6,
   "id": "4487fbf2",
   "metadata": {},
   "outputs": [
    {
     "name": "stdout",
     "output_type": "stream",
     "text": [
      "sum is  45\n"
     ]
    }
   ],
   "source": [
    "def sum(num):\n",
    "    \"\"\"find sum of numbers\"\"\"\n",
    "    sum=0\n",
    "    for i in range (num):\n",
    "        sum=i+sum\n",
    "    print(\"sum is \",+sum)\n",
    "sum(10)\n",
    "        "
   ]
  },
  {
   "cell_type": "code",
   "execution_count": 7,
   "id": "98a8e713",
   "metadata": {},
   "outputs": [
    {
     "name": "stdout",
     "output_type": "stream",
     "text": [
      "3\n",
      "4\n"
     ]
    }
   ],
   "source": [
    "def absolute_value(num):\n",
    "    \"\"\"the function returns rhw absolute value\"\"\"\n",
    "    if(num>=0):\n",
    "        return(num)\n",
    "    else:\n",
    "        return(-num)\n",
    "print(absolute_value(3))\n",
    "print(absolute_value(-4))"
   ]
  },
  {
   "cell_type": "code",
   "execution_count": 8,
   "id": "dc28f53d",
   "metadata": {},
   "outputs": [
    {
     "name": "stdout",
     "output_type": "stream",
     "text": [
      "value inside function:  10\n",
      "value outside functiom:  20\n"
     ]
    }
   ],
   "source": [
    "def fun():\n",
    "    x=10\n",
    "    print(\"value inside function: \",x)\n",
    "x=20\n",
    "fun()\n",
    "print(\"value outside functiom: \",x)"
   ]
  },
  {
   "cell_type": "code",
   "execution_count": 9,
   "id": "0eac5b7f",
   "metadata": {},
   "outputs": [
    {
     "name": "stdout",
     "output_type": "stream",
     "text": [
      "sum is  7\n"
     ]
    }
   ],
   "source": [
    "def sum(x,y):\n",
    "    sum=x+y\n",
    "    return sum\n",
    "num1=3\n",
    "num2=4\n",
    "print(\"sum is \",+sum(num1,num2))"
   ]
  },
  {
   "cell_type": "code",
   "execution_count": 10,
   "id": "082a19d8",
   "metadata": {},
   "outputs": [
    {
     "name": "stdout",
     "output_type": "stream",
     "text": [
      "hello miya,good morning\n",
      "hello diya,how do you do?\n"
     ]
    }
   ],
   "source": [
    "def greet(name,msg=\"good morning\"):\n",
    "    \"\"\"greetings\"\"\"\n",
    "    print(\"hello\",name+','+msg)\n",
    "greet(\"miya\")\n",
    "greet(\"diya\",\"how do you do?\")\n"
   ]
  },
  {
   "cell_type": "code",
   "execution_count": 13,
   "id": "87464db6",
   "metadata": {},
   "outputs": [
    {
     "name": "stdout",
     "output_type": "stream",
     "text": [
      "enter your name :miya\n",
      "hello miya how are you\n"
     ]
    }
   ],
   "source": [
    "def greet(name):\n",
    "    \"\"\"greeting\"\"\"\n",
    "    print(\"hello \"+nm+\" how are you\")\n",
    "nm=str(input(\"enter your name :\"))\n",
    "greet('nm')"
   ]
  },
  {
   "cell_type": "code",
   "execution_count": 14,
   "id": "7955a519",
   "metadata": {},
   "outputs": [
    {
     "name": "stdout",
     "output_type": "stream",
     "text": [
      "enter the 1st number: 9\n",
      "enter thw 2nd number: 10\n",
      "sum is 19\n"
     ]
    }
   ],
   "source": [
    "def sum(a,b):\n",
    "    \"\"\"sum of two numbers\"\"\"\n",
    "    c=a+b\n",
    "    return(c)\n",
    "a=int(input(\"enter the 1st number: \"))\n",
    "b=int(input(\"enter thw 2nd number: \"))\n",
    "print(\"sum is\",sum(a,b))"
   ]
  },
  {
   "cell_type": "code",
   "execution_count": null,
   "id": "0b3143fb",
   "metadata": {},
   "outputs": [],
   "source": []
  },
  {
   "cell_type": "code",
   "execution_count": null,
   "id": "063b661d",
   "metadata": {},
   "outputs": [],
   "source": []
  },
  {
   "cell_type": "code",
   "execution_count": null,
   "id": "1ce79b00",
   "metadata": {},
   "outputs": [],
   "source": []
  }
 ],
 "metadata": {
  "kernelspec": {
   "display_name": "Python 3 (ipykernel)",
   "language": "python",
   "name": "python3"
  },
  "language_info": {
   "codemirror_mode": {
    "name": "ipython",
    "version": 3
   },
   "file_extension": ".py",
   "mimetype": "text/x-python",
   "name": "python",
   "nbconvert_exporter": "python",
   "pygments_lexer": "ipython3",
   "version": "3.9.7"
  }
 },
 "nbformat": 4,
 "nbformat_minor": 5
}
