{
 "cells": [
  {
   "cell_type": "code",
   "execution_count": 12,
   "id": "f4081280",
   "metadata": {},
   "outputs": [
    {
     "name": "stdout",
     "output_type": "stream",
     "text": [
      "{'m', 'r', 'y', 'a', 'i', 's'}\n"
     ]
    }
   ],
   "source": [
    "s1={'m','i','s','r','i','y','a'}\n",
    "print(s1)"
   ]
  },
  {
   "cell_type": "code",
   "execution_count": 13,
   "id": "1941690f",
   "metadata": {},
   "outputs": [
    {
     "data": {
      "text/plain": [
       "{0, 1, 2, 3}"
      ]
     },
     "execution_count": 13,
     "metadata": {},
     "output_type": "execute_result"
    }
   ],
   "source": [
    "set([0,1,2,3])"
   ]
  },
  {
   "cell_type": "code",
   "execution_count": 14,
   "id": "86784009",
   "metadata": {},
   "outputs": [
    {
     "data": {
      "text/plain": [
       "{'a', 'i', 'm', 'y'}"
      ]
     },
     "execution_count": 14,
     "metadata": {},
     "output_type": "execute_result"
    }
   ],
   "source": [
    "set(\"miya\")"
   ]
  },
  {
   "cell_type": "code",
   "execution_count": 16,
   "id": "c9159c60",
   "metadata": {},
   "outputs": [
    {
     "name": "stdout",
     "output_type": "stream",
     "text": [
      "{'m', 'r', 'y', 'a', 20, 'i', 's'}\n"
     ]
    }
   ],
   "source": [
    "s1.add(20)\n",
    "print(s1)"
   ]
  },
  {
   "cell_type": "code",
   "execution_count": 18,
   "id": "cc73c426",
   "metadata": {},
   "outputs": [
    {
     "name": "stdout",
     "output_type": "stream",
     "text": [
      "{'r', 2, 3, 4, 6, 'i', 's', 'm', 'a', 20, 'y'}\n"
     ]
    }
   ],
   "source": [
    "s1.update([2,3,4,6])\n",
    "print(s1)"
   ]
  },
  {
   "cell_type": "code",
   "execution_count": 21,
   "id": "719e4f29",
   "metadata": {},
   "outputs": [
    {
     "name": "stdout",
     "output_type": "stream",
     "text": [
      "{'r', 2, 3, 4, 'y', 6, 'i', 's', 'm', 'a', 20}\n"
     ]
    }
   ],
   "source": [
    "s2=s1.copy()\n",
    "print(s2)"
   ]
  },
  {
   "cell_type": "code",
   "execution_count": 27,
   "id": "d756b52f",
   "metadata": {},
   "outputs": [
    {
     "data": {
      "text/plain": [
       "True"
      ]
     },
     "execution_count": 27,
     "metadata": {},
     "output_type": "execute_result"
    }
   ],
   "source": [
    "2 in s1"
   ]
  },
  {
   "cell_type": "code",
   "execution_count": 30,
   "id": "dd09becd",
   "metadata": {},
   "outputs": [
    {
     "data": {
      "text/plain": [
       "True"
      ]
     },
     "execution_count": 30,
     "metadata": {},
     "output_type": "execute_result"
    }
   ],
   "source": [
    "\"r\" in s1"
   ]
  },
  {
   "cell_type": "code",
   "execution_count": 33,
   "id": "6cf4d4f7",
   "metadata": {},
   "outputs": [
    {
     "data": {
      "text/plain": [
       "False"
      ]
     },
     "execution_count": 33,
     "metadata": {},
     "output_type": "execute_result"
    }
   ],
   "source": [
    "\"f\" in s1"
   ]
  },
  {
   "cell_type": "code",
   "execution_count": 43,
   "id": "158f17fb",
   "metadata": {},
   "outputs": [
    {
     "name": "stdout",
     "output_type": "stream",
     "text": [
      "{2, 3, 4, 6, 'i', 's', 'm', 'a', 20, 'y'}\n",
      "{2, 3, 4, 'y', 6, 'i', 's', 'm', 'a', 20}\n"
     ]
    }
   ],
   "source": [
    "print(s1)\n",
    "print(s2)"
   ]
  },
  {
   "cell_type": "code",
   "execution_count": 37,
   "id": "9f89bafd",
   "metadata": {},
   "outputs": [
    {
     "data": {
      "text/plain": [
       "True"
      ]
     },
     "execution_count": 37,
     "metadata": {},
     "output_type": "execute_result"
    }
   ],
   "source": [
    "s1.issubset(s2)"
   ]
  },
  {
   "cell_type": "code",
   "execution_count": 41,
   "id": "e282d607",
   "metadata": {},
   "outputs": [],
   "source": [
    "s1.remove('r')"
   ]
  },
  {
   "cell_type": "code",
   "execution_count": 42,
   "id": "0189b53a",
   "metadata": {},
   "outputs": [],
   "source": [
    "s2.remove('r')"
   ]
  },
  {
   "cell_type": "code",
   "execution_count": 45,
   "id": "1afd878d",
   "metadata": {},
   "outputs": [],
   "source": [
    "s2.remove(20)"
   ]
  },
  {
   "cell_type": "code",
   "execution_count": 46,
   "id": "fd4a1358",
   "metadata": {},
   "outputs": [],
   "source": [
    "s2.remove(4)"
   ]
  },
  {
   "cell_type": "code",
   "execution_count": 47,
   "id": "275e858d",
   "metadata": {},
   "outputs": [
    {
     "name": "stdout",
     "output_type": "stream",
     "text": [
      "{2, 3, 'y', 6, 'i', 's', 'm', 'a'}\n"
     ]
    }
   ],
   "source": [
    "print(s2)"
   ]
  },
  {
   "cell_type": "code",
   "execution_count": 48,
   "id": "1357fad1",
   "metadata": {},
   "outputs": [
    {
     "data": {
      "text/plain": [
       "True"
      ]
     },
     "execution_count": 48,
     "metadata": {},
     "output_type": "execute_result"
    }
   ],
   "source": [
    "s2.issubset(s1)"
   ]
  },
  {
   "cell_type": "code",
   "execution_count": 49,
   "id": "bf0823a3",
   "metadata": {},
   "outputs": [
    {
     "data": {
      "text/plain": [
       "False"
      ]
     },
     "execution_count": 49,
     "metadata": {},
     "output_type": "execute_result"
    }
   ],
   "source": [
    "s1.issubset(s2)"
   ]
  },
  {
   "cell_type": "code",
   "execution_count": 50,
   "id": "2ef68097",
   "metadata": {},
   "outputs": [
    {
     "data": {
      "text/plain": [
       "True"
      ]
     },
     "execution_count": 50,
     "metadata": {},
     "output_type": "execute_result"
    }
   ],
   "source": [
    "s1.issuperset(s2)"
   ]
  },
  {
   "cell_type": "code",
   "execution_count": 51,
   "id": "455c75dd",
   "metadata": {},
   "outputs": [
    {
     "data": {
      "text/plain": [
       "False"
      ]
     },
     "execution_count": 51,
     "metadata": {},
     "output_type": "execute_result"
    }
   ],
   "source": [
    "s2.issuperset(s1)"
   ]
  },
  {
   "cell_type": "code",
   "execution_count": 55,
   "id": "53e527d2",
   "metadata": {},
   "outputs": [
    {
     "name": "stdout",
     "output_type": "stream",
     "text": [
      "o\n",
      "l\n",
      "f\n",
      "a\n",
      "t\n"
     ]
    }
   ],
   "source": [
    "s=set(\"float\")\n",
    "for n in s:\n",
    "    print(n),"
   ]
  },
  {
   "cell_type": "code",
   "execution_count": 56,
   "id": "5cfbc26c",
   "metadata": {},
   "outputs": [],
   "source": [
    "s1={1,2,3}\n",
    "s2={4,5,6}"
   ]
  },
  {
   "cell_type": "code",
   "execution_count": 57,
   "id": "c95ee529",
   "metadata": {},
   "outputs": [
    {
     "data": {
      "text/plain": [
       "{1, 2, 3}"
      ]
     },
     "execution_count": 57,
     "metadata": {},
     "output_type": "execute_result"
    }
   ],
   "source": [
    "s1"
   ]
  },
  {
   "cell_type": "code",
   "execution_count": 58,
   "id": "8e570ff7",
   "metadata": {},
   "outputs": [
    {
     "data": {
      "text/plain": [
       "{1, 2, 3, 4, 5, 6}"
      ]
     },
     "execution_count": 58,
     "metadata": {},
     "output_type": "execute_result"
    }
   ],
   "source": [
    "s1.union(s2)"
   ]
  },
  {
   "cell_type": "code",
   "execution_count": 59,
   "id": "99eb2fe1",
   "metadata": {},
   "outputs": [
    {
     "data": {
      "text/plain": [
       "{1, 2, 3, 4, 5, 6}"
      ]
     },
     "execution_count": 59,
     "metadata": {},
     "output_type": "execute_result"
    }
   ],
   "source": [
    "s1|s2"
   ]
  },
  {
   "cell_type": "code",
   "execution_count": 60,
   "id": "5f26b666",
   "metadata": {},
   "outputs": [],
   "source": [
    "s1.add(4)"
   ]
  },
  {
   "cell_type": "code",
   "execution_count": 61,
   "id": "1823e01e",
   "metadata": {},
   "outputs": [
    {
     "data": {
      "text/plain": [
       "{1, 2, 3, 4}"
      ]
     },
     "execution_count": 61,
     "metadata": {},
     "output_type": "execute_result"
    }
   ],
   "source": [
    "s1"
   ]
  },
  {
   "cell_type": "code",
   "execution_count": 62,
   "id": "2424e5f5",
   "metadata": {},
   "outputs": [
    {
     "data": {
      "text/plain": [
       "{4}"
      ]
     },
     "execution_count": 62,
     "metadata": {},
     "output_type": "execute_result"
    }
   ],
   "source": [
    "s1.intersection(s2)"
   ]
  },
  {
   "cell_type": "code",
   "execution_count": 64,
   "id": "887f1e98",
   "metadata": {},
   "outputs": [
    {
     "data": {
      "text/plain": [
       "{1, 2, 3, 5, 6}"
      ]
     },
     "execution_count": 64,
     "metadata": {},
     "output_type": "execute_result"
    }
   ],
   "source": [
    "s1.symmetric_difference(s2)"
   ]
  },
  {
   "cell_type": "code",
   "execution_count": 65,
   "id": "112abae3",
   "metadata": {},
   "outputs": [
    {
     "data": {
      "text/plain": [
       "{1, 2, 3}"
      ]
     },
     "execution_count": 65,
     "metadata": {},
     "output_type": "execute_result"
    }
   ],
   "source": [
    "s1.difference(s2)"
   ]
  },
  {
   "cell_type": "code",
   "execution_count": 67,
   "id": "e284033a",
   "metadata": {},
   "outputs": [
    {
     "data": {
      "text/plain": [
       "{1, 2, 3, 4, 5, 6, 7, 8, 9}"
      ]
     },
     "execution_count": 67,
     "metadata": {},
     "output_type": "execute_result"
    }
   ],
   "source": [
    "s3={9,8,7,6}\n",
    "set.union(s1,s2,s3)"
   ]
  },
  {
   "cell_type": "code",
   "execution_count": 68,
   "id": "cf2df4f8",
   "metadata": {},
   "outputs": [],
   "source": [
    "s3.add(4)"
   ]
  },
  {
   "cell_type": "code",
   "execution_count": 69,
   "id": "826b4296",
   "metadata": {},
   "outputs": [
    {
     "data": {
      "text/plain": [
       "{4, 6, 7, 8, 9}"
      ]
     },
     "execution_count": 69,
     "metadata": {},
     "output_type": "execute_result"
    }
   ],
   "source": [
    "s3"
   ]
  },
  {
   "cell_type": "code",
   "execution_count": 70,
   "id": "f3ee9aa8",
   "metadata": {},
   "outputs": [
    {
     "data": {
      "text/plain": [
       "{4}"
      ]
     },
     "execution_count": 70,
     "metadata": {},
     "output_type": "execute_result"
    }
   ],
   "source": [
    "set.intersection(s1,s2,s3)"
   ]
  },
  {
   "cell_type": "code",
   "execution_count": 74,
   "id": "20878b20",
   "metadata": {},
   "outputs": [
    {
     "data": {
      "text/plain": [
       "[frozenset({2, 4, 6}), 5, 7, 3]"
      ]
     },
     "execution_count": 74,
     "metadata": {},
     "output_type": "execute_result"
    }
   ],
   "source": [
    "fs=frozenset([2,4,6])\n",
    "s1=([fs,5,7,3])\n",
    "s1"
   ]
  },
  {
   "cell_type": "code",
   "execution_count": 76,
   "id": "77ee2b89",
   "metadata": {},
   "outputs": [
    {
     "data": {
      "text/plain": [
       "frozenset({4, 6})"
      ]
     },
     "execution_count": 76,
     "metadata": {},
     "output_type": "execute_result"
    }
   ],
   "source": [
    "fs.intersection(s2)"
   ]
  },
  {
   "cell_type": "code",
   "execution_count": null,
   "id": "210683ef",
   "metadata": {},
   "outputs": [],
   "source": []
  },
  {
   "cell_type": "code",
   "execution_count": null,
   "id": "65f5a8b3",
   "metadata": {},
   "outputs": [],
   "source": []
  }
 ],
 "metadata": {
  "kernelspec": {
   "display_name": "Python 3 (ipykernel)",
   "language": "python",
   "name": "python3"
  },
  "language_info": {
   "codemirror_mode": {
    "name": "ipython",
    "version": 3
   },
   "file_extension": ".py",
   "mimetype": "text/x-python",
   "name": "python",
   "nbconvert_exporter": "python",
   "pygments_lexer": "ipython3",
   "version": "3.9.7"
  }
 },
 "nbformat": 4,
 "nbformat_minor": 5
}
