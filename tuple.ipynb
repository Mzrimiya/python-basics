{
 "cells": [
  {
   "cell_type": "code",
   "execution_count": 1,
   "id": "d0be110f",
   "metadata": {},
   "outputs": [
    {
     "name": "stdout",
     "output_type": "stream",
     "text": [
      "(1, 2, 3, 4, 5)\n"
     ]
    }
   ],
   "source": [
    "t=(1,2,3,4,5)\n",
    "print(t)"
   ]
  },
  {
   "cell_type": "code",
   "execution_count": 2,
   "id": "5eba5ce0",
   "metadata": {},
   "outputs": [],
   "source": [
    "t1=(20,)"
   ]
  },
  {
   "cell_type": "code",
   "execution_count": 3,
   "id": "68fabc6a",
   "metadata": {},
   "outputs": [
    {
     "name": "stdout",
     "output_type": "stream",
     "text": [
      "(20,)\n"
     ]
    }
   ],
   "source": [
    "print(t1)"
   ]
  },
  {
   "cell_type": "code",
   "execution_count": 4,
   "id": "8a16aa5c",
   "metadata": {},
   "outputs": [
    {
     "data": {
      "text/plain": [
       "20"
      ]
     },
     "execution_count": 4,
     "metadata": {},
     "output_type": "execute_result"
    }
   ],
   "source": [
    "t=(20)\n",
    "t"
   ]
  },
  {
   "cell_type": "code",
   "execution_count": 5,
   "id": "e1affa37",
   "metadata": {},
   "outputs": [
    {
     "name": "stdout",
     "output_type": "stream",
     "text": [
      "100\n"
     ]
    }
   ],
   "source": [
    "print(100,)"
   ]
  },
  {
   "cell_type": "code",
   "execution_count": 6,
   "id": "375b3c0e",
   "metadata": {},
   "outputs": [
    {
     "name": "stdout",
     "output_type": "stream",
     "text": [
      "20\n"
     ]
    }
   ],
   "source": [
    "print(t)"
   ]
  },
  {
   "cell_type": "code",
   "execution_count": 7,
   "id": "7d9e5dec",
   "metadata": {},
   "outputs": [],
   "source": [
    "t1=(11,12,33,(10,30,10),40,56)"
   ]
  },
  {
   "cell_type": "markdown",
   "id": "5dcd0410",
   "metadata": {},
   "source": []
  },
  {
   "cell_type": "code",
   "execution_count": 8,
   "id": "6f651ab7",
   "metadata": {},
   "outputs": [
    {
     "name": "stdout",
     "output_type": "stream",
     "text": [
      "(11, 12, 33, (10, 30, 10), 40, 56)\n"
     ]
    }
   ],
   "source": [
    "print(t1)"
   ]
  },
  {
   "cell_type": "code",
   "execution_count": 9,
   "id": "baea0f76",
   "metadata": {},
   "outputs": [
    {
     "name": "stdout",
     "output_type": "stream",
     "text": [
      "33\n",
      "30\n",
      "10\n"
     ]
    }
   ],
   "source": [
    "print(t1[2])\n",
    "print(t1[3][1])\n",
    "print(t1[-3][-1])"
   ]
  },
  {
   "cell_type": "code",
   "execution_count": 10,
   "id": "ae267d7a",
   "metadata": {},
   "outputs": [],
   "source": [
    "t2=tuple('miya')"
   ]
  },
  {
   "cell_type": "code",
   "execution_count": 11,
   "id": "a7f24aa6",
   "metadata": {},
   "outputs": [
    {
     "name": "stdout",
     "output_type": "stream",
     "text": [
      "('m', 'i', 'y', 'a')\n"
     ]
    }
   ],
   "source": [
    "print(t2)"
   ]
  },
  {
   "cell_type": "code",
   "execution_count": 12,
   "id": "4f8b35f2",
   "metadata": {},
   "outputs": [],
   "source": [
    "list=[t1]"
   ]
  },
  {
   "cell_type": "code",
   "execution_count": 13,
   "id": "317654a3",
   "metadata": {},
   "outputs": [
    {
     "name": "stdout",
     "output_type": "stream",
     "text": [
      "[(11, 12, 33, (10, 30, 10), 40, 56)]\n"
     ]
    }
   ],
   "source": [
    "print(list)"
   ]
  },
  {
   "cell_type": "code",
   "execution_count": 14,
   "id": "1fc3ef13",
   "metadata": {},
   "outputs": [],
   "source": [
    "list=[33,55,45,65,75]\n",
    "lt=tuple(list)"
   ]
  },
  {
   "cell_type": "code",
   "execution_count": 15,
   "id": "bd870d64",
   "metadata": {},
   "outputs": [
    {
     "name": "stdout",
     "output_type": "stream",
     "text": [
      "(33, 55, 45, 65, 75)\n"
     ]
    }
   ],
   "source": [
    "print(lt)"
   ]
  },
  {
   "cell_type": "code",
   "execution_count": 16,
   "id": "b37b0d62",
   "metadata": {},
   "outputs": [
    {
     "name": "stdout",
     "output_type": "stream",
     "text": [
      "enter something:'miya','diya','fasee'\n",
      "(\"'\", 'm', 'i', 'y', 'a', \"'\", ',', \"'\", 'd', 'i', 'y', 'a', \"'\", ',', \"'\", 'f', 'a', 's', 'e', 'e', \"'\")\n"
     ]
    }
   ],
   "source": [
    "ut=tuple(input(\"enter something:\"))\n",
    "print(ut)"
   ]
  },
  {
   "cell_type": "code",
   "execution_count": 17,
   "id": "720a5a4d",
   "metadata": {},
   "outputs": [
    {
     "name": "stdout",
     "output_type": "stream",
     "text": [
      "('p', 'y', 't', 'h', 'o', 'n')\n"
     ]
    }
   ],
   "source": [
    "t=tuple('python')\n",
    "print(t)"
   ]
  },
  {
   "cell_type": "code",
   "execution_count": 18,
   "id": "fdc3a406",
   "metadata": {},
   "outputs": [],
   "source": [
    "list=[100,200,300,400]\n",
    "t2=tuple(list)"
   ]
  },
  {
   "cell_type": "code",
   "execution_count": 19,
   "id": "7fe8e51b",
   "metadata": {},
   "outputs": [
    {
     "name": "stdout",
     "output_type": "stream",
     "text": [
      "(100, 200, 300, 400)\n"
     ]
    }
   ],
   "source": [
    "print(t2)"
   ]
  },
  {
   "cell_type": "code",
   "execution_count": 21,
   "id": "fb0dbbbd",
   "metadata": {},
   "outputs": [
    {
     "name": "stdout",
     "output_type": "stream",
     "text": [
      "enter elements2,3,4,5,6,7,8\n"
     ]
    }
   ],
   "source": [
    "tup=eval(input(\"enter elements\"))\n"
   ]
  },
  {
   "cell_type": "code",
   "execution_count": 22,
   "id": "1b0d12c1",
   "metadata": {},
   "outputs": [
    {
     "name": "stdout",
     "output_type": "stream",
     "text": [
      "(2, 3, 4, 5, 6, 7, 8)\n"
     ]
    }
   ],
   "source": [
    "print(tup)"
   ]
  },
  {
   "cell_type": "code",
   "execution_count": 23,
   "id": "d6598aa0",
   "metadata": {},
   "outputs": [
    {
     "name": "stdout",
     "output_type": "stream",
     "text": [
      "('miya', 11, 23, 43, 55, 'fasee', 'diya')\n"
     ]
    }
   ],
   "source": [
    "nt=('miya',11,23,43,55,'fasee','diya')\n",
    "print(nt)"
   ]
  },
  {
   "cell_type": "code",
   "execution_count": 24,
   "id": "7a8db9b8",
   "metadata": {},
   "outputs": [
    {
     "data": {
      "text/plain": [
       "(23, 43, 55, 'fasee')"
      ]
     },
     "execution_count": 24,
     "metadata": {},
     "output_type": "execute_result"
    }
   ],
   "source": [
    "nt[2:6]"
   ]
  },
  {
   "cell_type": "code",
   "execution_count": 25,
   "id": "f98d9d70",
   "metadata": {},
   "outputs": [
    {
     "data": {
      "text/plain": [
       "('miya', 11, 23, 43, 55, 'fasee', 'diya', 20)"
      ]
     },
     "execution_count": 25,
     "metadata": {},
     "output_type": "execute_result"
    }
   ],
   "source": [
    "nt+(20,)"
   ]
  },
  {
   "cell_type": "code",
   "execution_count": null,
   "id": "ac9ad760",
   "metadata": {},
   "outputs": [],
   "source": []
  },
  {
   "cell_type": "code",
   "execution_count": null,
   "id": "bb2800f9",
   "metadata": {},
   "outputs": [],
   "source": []
  }
 ],
 "metadata": {
  "kernelspec": {
   "display_name": "Python 3 (ipykernel)",
   "language": "python",
   "name": "python3"
  },
  "language_info": {
   "codemirror_mode": {
    "name": "ipython",
    "version": 3
   },
   "file_extension": ".py",
   "mimetype": "text/x-python",
   "name": "python",
   "nbconvert_exporter": "python",
   "pygments_lexer": "ipython3",
   "version": "3.9.7"
  }
 },
 "nbformat": 4,
 "nbformat_minor": 5
}
