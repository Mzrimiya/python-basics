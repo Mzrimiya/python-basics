{
 "cells": [
  {
   "cell_type": "code",
   "execution_count": null,
   "id": "4f4d3390",
   "metadata": {},
   "outputs": [],
   "source": [
    "def max(a,b,c):\n",
    "    if(a>b & a>c):\n",
    "        print(a)\n",
    "    elif(b>c):\n",
    "        print(b)\n",
    "    else:\n",
    "        print(c)\n",
    "a1=int(input(\"number 1: \"))\n",
    "a2=int(input(\"number 2: \"))\n",
    "a3=int(input(\"number 3: \"))\n",
    "print(\"greatest no is: \",max(a1,a2,a3))\n"
   ]
  },
  {
   "cell_type": "code",
   "execution_count": null,
   "id": "c5833c74",
   "metadata": {},
   "outputs": [],
   "source": [
    "def fn(name,age):\n",
    "    print(\"name:\"+name)\n",
    "    print(\"age:\",age)\n",
    "a1=str(input(\"enter the name:\"))\n",
    "a2=int(input(\"enter the age:\"))\n",
    "fn(a1,a2)"
   ]
  },
  {
   "cell_type": "code",
   "execution_count": 2,
   "id": "0afacd02",
   "metadata": {},
   "outputs": [
    {
     "name": "stdout",
     "output_type": "stream",
     "text": [
      "[4, 9, 16, 64]\n"
     ]
    }
   ],
   "source": [
    "li=[2,3,4,8]\n",
    "new=list(map(lambda i:i*i,li))\n",
    "print(new)"
   ]
  },
  {
   "cell_type": "code",
   "execution_count": 1,
   "id": "37f3f107",
   "metadata": {},
   "outputs": [
    {
     "name": "stdout",
     "output_type": "stream",
     "text": [
      "[3, 6, 9]\n"
     ]
    }
   ],
   "source": [
    "l1=[3,5,6,8,9,10]\n",
    "l2=list(filter(lambda x: x%3==0,l1))\n",
    "print(l2)"
   ]
  },
  {
   "cell_type": "code",
   "execution_count": 4,
   "id": "f3fd350e",
   "metadata": {},
   "outputs": [
    {
     "name": "stdout",
     "output_type": "stream",
     "text": [
      "enter the limit 5\n",
      "fibonacci series : \n",
      "0\n",
      "1\n",
      "1\n",
      "2\n",
      "3\n"
     ]
    }
   ],
   "source": [
    "def fib(n):\n",
    "    if(n<=1):\n",
    "        return n\n",
    "    else:\n",
    "        return(fib(n-1)+fib(n-2))\n",
    "n=int(input(\"enter the limit \"))\n",
    "print(\"fibonacci series : \")\n",
    "for i in range(n):\n",
    "    print(fib(i))"
   ]
  },
  {
   "cell_type": "code",
   "execution_count": 6,
   "id": "831e98d4",
   "metadata": {},
   "outputs": [
    {
     "name": "stdout",
     "output_type": "stream",
     "text": [
      "enter the limit: 5\n",
      "120\n"
     ]
    }
   ],
   "source": [
    "def fact(n):\n",
    "    if(n<=1):\n",
    "        return 1\n",
    "    else:\n",
    "        return(n*fact(n-1))\n",
    "n=int(input(\"enter the limit: \"))\n",
    "print(fact(n))    \n"
   ]
  },
  {
   "cell_type": "code",
   "execution_count": 9,
   "id": "e23e5d2c",
   "metadata": {},
   "outputs": [
    {
     "name": "stdout",
     "output_type": "stream",
     "text": [
      "enter the range 7\n",
      "28\n"
     ]
    }
   ],
   "source": [
    "def nsum(n):\n",
    "    if(n<=1):\n",
    "        return n\n",
    "    else:\n",
    "        return(n+nsum(n-1))\n",
    "n=int(input(\"enter the range \" ))\n",
    "print(nsum(n))"
   ]
  },
  {
   "cell_type": "code",
   "execution_count": null,
   "id": "f07b8922",
   "metadata": {},
   "outputs": [],
   "source": [
    "def arm(n)"
   ]
  },
  {
   "cell_type": "code",
   "execution_count": null,
   "id": "dcb7f16b",
   "metadata": {},
   "outputs": [],
   "source": []
  },
  {
   "cell_type": "code",
   "execution_count": null,
   "id": "3d1324c6",
   "metadata": {},
   "outputs": [],
   "source": []
  },
  {
   "cell_type": "code",
   "execution_count": null,
   "id": "5943ea83",
   "metadata": {},
   "outputs": [],
   "source": []
  },
  {
   "cell_type": "code",
   "execution_count": null,
   "id": "729d8833",
   "metadata": {},
   "outputs": [],
   "source": []
  },
  {
   "cell_type": "code",
   "execution_count": null,
   "id": "4385110a",
   "metadata": {},
   "outputs": [],
   "source": []
  },
  {
   "cell_type": "code",
   "execution_count": null,
   "id": "0ff1cb1b",
   "metadata": {},
   "outputs": [],
   "source": []
  }
 ],
 "metadata": {
  "kernelspec": {
   "display_name": "Python 3 (ipykernel)",
   "language": "python",
   "name": "python3"
  },
  "language_info": {
   "codemirror_mode": {
    "name": "ipython",
    "version": 3
   },
   "file_extension": ".py",
   "mimetype": "text/x-python",
   "name": "python",
   "nbconvert_exporter": "python",
   "pygments_lexer": "ipython3",
   "version": "3.9.7"
  }
 },
 "nbformat": 4,
 "nbformat_minor": 5
}
